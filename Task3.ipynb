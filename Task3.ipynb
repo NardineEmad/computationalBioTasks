{
  "cells": [
    {
      "cell_type": "code",
      "execution_count": null,
      "id": "73c4c57f",
      "metadata": {
        "id": "73c4c57f"
      },
      "outputs": [],
      "source": [
        "import cobra"
      ]
    },
    {
      "cell_type": "code",
      "execution_count": null,
      "id": "a174ad44",
      "metadata": {
        "id": "a174ad44"
      },
      "outputs": [],
      "source": [
        "from cobra import Model,Reaction,Metabolite"
      ]
    },
    {
      "cell_type": "code",
      "execution_count": null,
      "id": "baa14336",
      "metadata": {
        "id": "baa14336"
      },
      "outputs": [],
      "source": [
        "model=Model('model_task')"
      ]
    },
    {
      "cell_type": "code",
      "execution_count": null,
      "id": "03ee1007",
      "metadata": {
        "id": "03ee1007"
      },
      "outputs": [],
      "source": [
        "v0=Reaction('v0')#======>glc\n",
        "v0.name='v0'\n",
        "v0.lower_bound=1\n",
        "v0.upper_bound=1"
      ]
    },
    {
      "cell_type": "code",
      "execution_count": null,
      "id": "2359fc53",
      "metadata": {
        "id": "2359fc53"
      },
      "outputs": [],
      "source": [
        "v1=Reaction('v1')#glc=======>AA\n",
        "v1.name='v1'\n",
        "v1.lower_bound=0\n",
        "v1.upper_bound=1000"
      ]
    },
    {
      "cell_type": "code",
      "execution_count": null,
      "id": "328f92c9",
      "metadata": {
        "id": "328f92c9"
      },
      "outputs": [],
      "source": [
        "v2=Reaction('v2')#AA=======>Biomass\n",
        "v2.name='v2'\n",
        "v2.lower_bound=0\n",
        "v2.upper_bound=1000"
      ]
    },
    {
      "cell_type": "code",
      "execution_count": null,
      "id": "d66c1fb8",
      "metadata": {
        "id": "d66c1fb8"
      },
      "outputs": [],
      "source": [
        "M=Reaction('M')#Biomass=======>\n",
        "M.name='M'\n",
        "M.lower_bound=0\n",
        "M.upper_bound=1000"
      ]
    },
    {
      "cell_type": "code",
      "execution_count": null,
      "id": "0b4e637d",
      "metadata": {
        "id": "0b4e637d"
      },
      "outputs": [],
      "source": [
        "glc=Metabolite('glc',compartment='c')\n",
        "AA=Metabolite('AA',compartment='c')\n",
        "Biomass=Metabolite('Biomass',compartment='c')\n"
      ]
    },
    {
      "cell_type": "code",
      "execution_count": null,
      "id": "5bc06ce8",
      "metadata": {
        "id": "5bc06ce8"
      },
      "outputs": [],
      "source": [
        "v0.add_metabolites({glc:1})"
      ]
    },
    {
      "cell_type": "code",
      "execution_count": null,
      "id": "e758ac4a",
      "metadata": {
        "id": "e758ac4a"
      },
      "outputs": [],
      "source": [
        "v1.add_metabolites({glc:-1,AA:1})"
      ]
    },
    {
      "cell_type": "code",
      "execution_count": null,
      "id": "64977484",
      "metadata": {
        "id": "64977484"
      },
      "outputs": [],
      "source": [
        "v2.add_metabolites({AA:-9.09,Biomass:1})"
      ]
    },
    {
      "cell_type": "code",
      "execution_count": null,
      "id": "2a94e0d5",
      "metadata": {
        "id": "2a94e0d5"
      },
      "outputs": [],
      "source": [
        "M.add_metabolites({Biomass:-1})"
      ]
    },
    {
      "cell_type": "code",
      "execution_count": null,
      "id": "81d96ada",
      "metadata": {
        "id": "81d96ada"
      },
      "outputs": [],
      "source": [
        "model.add_reactions([v0,v1,v2,M])"
      ]
    },
    {
      "cell_type": "code",
      "execution_count": null,
      "id": "c635dc2c",
      "metadata": {
        "id": "c635dc2c"
      },
      "outputs": [],
      "source": [
        "model.objective='M'"
      ]
    },
    {
      "cell_type": "code",
      "execution_count": null,
      "id": "efb54265",
      "metadata": {
        "id": "efb54265",
        "outputId": "1442fe55-5fd1-443d-dc4f-e6851484f214"
      },
      "outputs": [
        {
          "data": {
            "text/html": [
              "<strong><em>Optimal</em> solution with objective value 0.110</strong><br><div>\n",
              "<style scoped>\n",
              "    .dataframe tbody tr th:only-of-type {\n",
              "        vertical-align: middle;\n",
              "    }\n",
              "\n",
              "    .dataframe tbody tr th {\n",
              "        vertical-align: top;\n",
              "    }\n",
              "\n",
              "    .dataframe thead th {\n",
              "        text-align: right;\n",
              "    }\n",
              "</style>\n",
              "<table border=\"1\" class=\"dataframe\">\n",
              "  <thead>\n",
              "    <tr style=\"text-align: right;\">\n",
              "      <th></th>\n",
              "      <th>fluxes</th>\n",
              "      <th>reduced_costs</th>\n",
              "    </tr>\n",
              "  </thead>\n",
              "  <tbody>\n",
              "    <tr>\n",
              "      <th>v0</th>\n",
              "      <td>1.000000</td>\n",
              "      <td>0.220022</td>\n",
              "    </tr>\n",
              "    <tr>\n",
              "      <th>v1</th>\n",
              "      <td>1.000000</td>\n",
              "      <td>0.000000</td>\n",
              "    </tr>\n",
              "    <tr>\n",
              "      <th>v2</th>\n",
              "      <td>0.110011</td>\n",
              "      <td>0.000000</td>\n",
              "    </tr>\n",
              "    <tr>\n",
              "      <th>M</th>\n",
              "      <td>0.110011</td>\n",
              "      <td>0.000000</td>\n",
              "    </tr>\n",
              "  </tbody>\n",
              "</table>\n",
              "</div>"
            ],
            "text/plain": [
              "<Solution 0.110 at 0x1e46027a4c0>"
            ]
          },
          "execution_count": 15,
          "metadata": {},
          "output_type": "execute_result"
        }
      ],
      "source": [
        "model.optimize()"
      ]
    },
    {
      "cell_type": "code",
      "execution_count": null,
      "id": "df46fb29",
      "metadata": {
        "id": "df46fb29",
        "outputId": "927fcb71-b889-44cb-9aef-0a23bc50c1d4"
      },
      "outputs": [
        {
          "data": {
            "text/html": [
              "<h3>Objective</h3><p>1.0 M = 0.11001100110011001</p><h4>Uptake</h4><table border=\"1\" class=\"dataframe\">\n",
              "  <thead>\n",
              "    <tr style=\"text-align: right;\">\n",
              "      <th>Metabolite</th>\n",
              "      <th>Reaction</th>\n",
              "      <th>Flux</th>\n",
              "      <th>C-Number</th>\n",
              "      <th>C-Flux</th>\n",
              "    </tr>\n",
              "  </thead>\n",
              "  <tbody>\n",
              "    <tr>\n",
              "      <td>glc</td>\n",
              "      <td>v0</td>\n",
              "      <td>1</td>\n",
              "      <td>0</td>\n",
              "      <td>0.00%</td>\n",
              "    </tr>\n",
              "  </tbody>\n",
              "</table><h4>Secretion</h4><table border=\"1\" class=\"dataframe\">\n",
              "  <thead>\n",
              "    <tr style=\"text-align: right;\">\n",
              "      <th>Metabolite</th>\n",
              "      <th>Reaction</th>\n",
              "      <th>Flux</th>\n",
              "      <th>C-Number</th>\n",
              "      <th>C-Flux</th>\n",
              "    </tr>\n",
              "  </thead>\n",
              "  <tbody>\n",
              "    <tr>\n",
              "      <td>Biomass</td>\n",
              "      <td>M</td>\n",
              "      <td>-0.11</td>\n",
              "      <td>0</td>\n",
              "      <td>0.00%</td>\n",
              "    </tr>\n",
              "  </tbody>\n",
              "</table>"
            ],
            "text/plain": [
              "<cobra.summary.model_summary.ModelSummary at 0x1e46027a850>"
            ]
          },
          "execution_count": 16,
          "metadata": {},
          "output_type": "execute_result"
        }
      ],
      "source": [
        "model.summary()"
      ]
    },
    {
      "cell_type": "code",
      "execution_count": null,
      "id": "b159376d",
      "metadata": {
        "id": "b159376d"
      },
      "outputs": [],
      "source": [
        "cobra.io.save_json_model(model,\"test2.json\")"
      ]
    },
    {
      "cell_type": "code",
      "execution_count": null,
      "id": "9234327a",
      "metadata": {
        "id": "9234327a"
      },
      "outputs": [],
      "source": [
        "import escher"
      ]
    },
    {
      "cell_type": "code",
      "execution_count": null,
      "id": "c35efac5",
      "metadata": {
        "id": "c35efac5"
      },
      "outputs": [],
      "source": [
        "from escher import Builder"
      ]
    },
    {
      "cell_type": "code",
      "execution_count": null,
      "id": "8756f523",
      "metadata": {
        "id": "8756f523"
      },
      "outputs": [],
      "source": [
        "builder=Builder()"
      ]
    },
    {
      "cell_type": "code",
      "execution_count": null,
      "id": "ebe9a684",
      "metadata": {
        "id": "ebe9a684",
        "outputId": "fc7299bc-06aa-45e3-a2a2-ca651b3a42ee",
        "colab": {
          "referenced_widgets": [
            "5f035db9af7d4d24b08e06c2dcf8b5cc"
          ]
        }
      },
      "outputs": [
        {
          "data": {
            "application/vnd.jupyter.widget-view+json": {
              "model_id": "5f035db9af7d4d24b08e06c2dcf8b5cc",
              "version_major": 2,
              "version_minor": 0
            },
            "text/plain": [
              "Builder()"
            ]
          },
          "metadata": {},
          "output_type": "display_data"
        }
      ],
      "source": [
        "builder"
      ]
    },
    {
      "cell_type": "code",
      "execution_count": null,
      "id": "866e57a2",
      "metadata": {
        "id": "866e57a2"
      },
      "outputs": [],
      "source": [
        ""
      ]
    }
  ],
  "metadata": {
    "kernelspec": {
      "display_name": "Python 3 (ipykernel)",
      "language": "python",
      "name": "python3"
    },
    "language_info": {
      "codemirror_mode": {
        "name": "ipython",
        "version": 3
      },
      "file_extension": ".py",
      "mimetype": "text/x-python",
      "name": "python",
      "nbconvert_exporter": "python",
      "pygments_lexer": "ipython3",
      "version": "3.9.7"
    },
    "colab": {
      "name": "Section 2 Part 2.ipynb",
      "provenance": []
    }
  },
  "nbformat": 4,
  "nbformat_minor": 5
}